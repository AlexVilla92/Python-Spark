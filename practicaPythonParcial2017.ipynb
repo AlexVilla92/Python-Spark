{
 "cells": [
  {
   "cell_type": "code",
   "execution_count": 4,
   "metadata": {
    "collapsed": false
   },
   "outputs": [
    {
     "name": "stdout",
     "output_type": "stream",
     "text": [
      "1\n"
     ]
    }
   ],
   "source": [
    "#Ejercicio 1:\n",
    "#Función que introduciendo dos string (frase, palabra) nos indique \n",
    "#cuantas veces sale la palabra en esa frase.\n",
    "#Ej.: (la lala alala la, la) --> la función devolverá 2 puesto que \"la\" \n",
    "#como palabra solo aparece dos veces. (hay que tener en cuenta que la \n",
    "#frase puede terminar con un punto).\n",
    "def repeticiones(unaFrase,palabra):\n",
    "    \n",
    "    lista = unaFrase.split(' ')\n",
    "    apariciones = 0\n",
    "    \n",
    "    for unaPalabra in lista:\n",
    "        \n",
    "        if (unaPalabra == palabra):\n",
    "            \n",
    "            apariciones += 1\n",
    "            \n",
    "    return apariciones\n",
    "\n",
    "print(repeticiones('la copa de lalalala vida tengo yolalal', 'la'))"
   ]
  },
  {
   "cell_type": "code",
   "execution_count": 10,
   "metadata": {
    "collapsed": false
   },
   "outputs": [
    {
     "name": "stdout",
     "output_type": "stream",
     "text": [
      "[1, 3, 5, 7, 9, 15, 21, 35, 45, 63, 105, 315]\n",
      "[1, 3, 5, 7, 9, 15, 21, 35, 45, 63, 105, 315]\n"
     ]
    }
   ],
   "source": [
    "#Ejercicio 2:\n",
    "#Introduces un numero a la función y te da una lista con los divisores del mismo.\n",
    "#E.j.: (315) --> [1, 3, 5, 7, 9, 15, 21, 35, 45, 63, 105, 315]\n",
    "def divisores(numero):\n",
    "    \n",
    "    listaDivisores = []\n",
    "    unNum = 1\n",
    "    \n",
    "    while (unNum <= numero):\n",
    "        \n",
    "        if (numero % unNum == 0):\n",
    "            \n",
    "            listaDivisores.append(unNum)\n",
    "            \n",
    "        unNum += 1\n",
    "    \n",
    "    return (listaDivisores)\n",
    "\n",
    "print (divisores(315))\n",
    "\n",
    "#otra forma ##########################\n",
    "def todosLosDivisores(numero):\n",
    "    \n",
    "    res = []\n",
    "    \n",
    "    for num in range(1, numero + 1):\n",
    "        \n",
    "        if (numero % num == 0):\n",
    "            \n",
    "            res.append(num)\n",
    "            \n",
    "    return (res)\n",
    "\n",
    "print (todosLosDivisores(315))"
   ]
  },
  {
   "cell_type": "code",
   "execution_count": 11,
   "metadata": {
    "collapsed": false
   },
   "outputs": [
    {
     "name": "stdout",
     "output_type": "stream",
     "text": [
      "9\n"
     ]
    }
   ],
   "source": [
    "#Ejercicio 3:\n",
    "#Introduces un numero y te da una lista con los factores del numero.\n",
    "#Ej.: (315) --> [3, 3, 5, 7]\n",
    "def factorizar(unNum):\n",
    "    #te lo debo\n",
    "    \n",
    "    return 9\n",
    "\n",
    "\n",
    "print(factorizar(315))"
   ]
  },
  {
   "cell_type": "code",
   "execution_count": 15,
   "metadata": {
    "collapsed": false
   },
   "outputs": [
    {
     "name": "stdout",
     "output_type": "stream",
     "text": [
      "['pablo', 'pepe', 'moni', 'dardo']\n",
      "['pablo', 'pepe', 'coki', 'dardo']\n"
     ]
    }
   ],
   "source": [
    "#Escriba un programa que permita crear una lista de palabras \n",
    "#y que, a continuación, pida dos palabras y sustituya la primera por \n",
    "#la segunda en la lista.\n",
    "\n",
    "def reemplazo(unaLista, quitarCadena, cadenaNueva):\n",
    "    \n",
    "    if quitarCadena in unaLista:\n",
    "        \n",
    "        pos = unaLista.index(quitarCadena)\n",
    "        unaLista.remove(quitarCadena)\n",
    "        unaLista.insert(pos, cadenaNueva)\n",
    "    \n",
    "    else:\n",
    "        \n",
    "        print('la cadena no existe en la lista')\n",
    "################################################\n",
    "    \n",
    "lista = ['pablo', 'pepe', 'moni', 'dardo']\n",
    "\n",
    "print(lista)\n",
    "\n",
    "reemplazo(lista, 'moni', 'coki')\n",
    "\n",
    "print(lista)"
   ]
  },
  {
   "cell_type": "code",
   "execution_count": 18,
   "metadata": {
    "collapsed": false
   },
   "outputs": [
    {
     "name": "stdout",
     "output_type": "stream",
     "text": [
      "['pablo', 'pepe', 'moni', 'dardo', 'moni', 'paola', 'moni']\n",
      "['pablo', 'pepe', 'dardo', 'paola']\n"
     ]
    }
   ],
   "source": [
    "def eliminar(unaLista, quitarCadena):\n",
    "    \n",
    "    if quitarCadena in unaLista:\n",
    "        \n",
    "        for unNombre in unaLista:\n",
    "            \n",
    "            if (unNombre == quitarCadena):\n",
    "                \n",
    "                unaLista.remove(unNombre)\n",
    "    else:\n",
    "        \n",
    "        print('la cadena no existe en la lista')\n",
    "################################################\n",
    "    \n",
    "lista = ['pablo', 'pepe', 'moni', 'dardo', 'moni', 'paola', 'moni']\n",
    "\n",
    "print(lista)\n",
    "\n",
    "eliminar(lista, 'moni')\n",
    "\n",
    "print(lista)"
   ]
  },
  {
   "cell_type": "code",
   "execution_count": 21,
   "metadata": {
    "collapsed": false
   },
   "outputs": [
    {
     "name": "stdout",
     "output_type": "stream",
     "text": [
      "['pablo', 'pepe', 'moni', 'dardo', 'moni', 'paola', 'moni']\n",
      "set(['paola', 'moni', 'pepe', 'dardo', 'pablo'])\n"
     ]
    },
    {
     "data": {
      "text/plain": [
       "set"
      ]
     },
     "execution_count": 21,
     "metadata": {},
     "output_type": "execute_result"
    }
   ],
   "source": [
    "#set\n",
    "\n",
    "lista = ['pablo', 'pepe', 'moni', 'dardo', 'moni', 'paola', 'moni']\n",
    "\n",
    "otraLista = set(lista)\n",
    "\n",
    "print(lista)\n",
    "print(otraLista)\n",
    "type(otraLista)"
   ]
  },
  {
   "cell_type": "code",
   "execution_count": 26,
   "metadata": {
    "collapsed": false
   },
   "outputs": [
    {
     "name": "stdout",
     "output_type": "stream",
     "text": [
      "pepe\n",
      "['pablo', 'moni', 'dardo', 'moni', 'paola', 'moni']\n"
     ]
    }
   ],
   "source": [
    "#cosas locas\n",
    "\n",
    "lista = ['pablo', 'pepe', 'moni', 'dardo', 'moni', 'paola', 'moni']\n",
    "lista2 = ['dardo', 'lalo','fatiga','pepe', 'tomy']\n",
    "\n",
    "palabra = lista.pop(1)\n",
    "\n",
    "print(palabra)\n",
    "print(lista)"
   ]
  },
  {
   "cell_type": "code",
   "execution_count": 33,
   "metadata": {
    "collapsed": false
   },
   "outputs": [
    {
     "name": "stdout",
     "output_type": "stream",
     "text": [
      "la cantidad de palabras es: 4\n"
     ]
    }
   ],
   "source": [
    "#Ejercicio 7.9. Escribir una función que reciba como parámetro una \n",
    "#cadena de palabras separadas por espacios y devuelva, como resultado, \n",
    "#cuántas palabras de más de cinco letras tiene la cadena dada.\n",
    "\n",
    "def contar(unaCadena):\n",
    "    \n",
    "    lista = unaCadena.split()\n",
    "    apariciones = 0\n",
    "    \n",
    "    for palabra in lista:\n",
    "        \n",
    "        if (len(palabra) > 5):\n",
    "            \n",
    "            apariciones += 1\n",
    "            \n",
    "    return apariciones\n",
    "\n",
    "#################################################\n",
    "cadena = 'cuantas palabras con mas de 5 letras habra?' #aca son 4\n",
    "\n",
    "cantidad = contar(cadena)\n",
    "\n",
    "print('la cantidad de palabras es: %s' % cantidad)"
   ]
  },
  {
   "cell_type": "code",
   "execution_count": 60,
   "metadata": {
    "collapsed": false
   },
   "outputs": [
    {
     "name": "stdout",
     "output_type": "stream",
     "text": [
      "si es potencia de dos\n"
     ]
    }
   ],
   "source": [
    "#detectar si un numeroe s potencia de 2 o no\n",
    "\n",
    "def potenciaDos(numero):\n",
    "    \n",
    "    if (numero <= 1):\n",
    "        \n",
    "        return False\n",
    "    \n",
    "    i = 2\n",
    "    \n",
    "    while (i <= numero):\n",
    "        \n",
    "        if (i == numero):\n",
    "            \n",
    "             return True\n",
    "            \n",
    "        i *= 2\n",
    "        \n",
    "    return False\n",
    "\n",
    "#############################################\n",
    "if potenciaDos(16):\n",
    "    \n",
    "    print 'si es potencia de dos'\n",
    "    \n",
    "else:\n",
    "    \n",
    "    print 'no es potencia de dos'"
   ]
  },
  {
   "cell_type": "code",
   "execution_count": 61,
   "metadata": {
    "collapsed": false
   },
   "outputs": [
    {
     "name": "stdout",
     "output_type": "stream",
     "text": [
      "2\n",
      "3\n",
      "4\n",
      "5\n"
     ]
    }
   ],
   "source": [
    "q = (2,3,4,5)\n",
    "\n",
    "for i in range(len(q)):\n",
    "    \n",
    "    print(q[i])\n"
   ]
  },
  {
   "cell_type": "code",
   "execution_count": 73,
   "metadata": {
    "collapsed": false
   },
   "outputs": [
    {
     "name": "stdout",
     "output_type": "stream",
     "text": [
      "['est', 'sto', 'to ', 'o e', ' es', 'es ', 's b', ' bo', 'boc', 'oca']\n"
     ]
    }
   ],
   "source": [
    " \n",
    "def nGramas(cadena,n):\n",
    "    \n",
    "    lista = []\n",
    "    cadena = cadena.lower()\n",
    "    \n",
    "    for i in range(len(cadena) - (n - 1)):\n",
    "        \n",
    "        nPal = ''\n",
    "        for i in range(i, i + n ):\n",
    "            \n",
    "            nPal += cadena[i]\n",
    "        \n",
    "        lista.append(nPal)\n",
    "        \n",
    "    return lista\n",
    "##############################\n",
    "cadena = 'esto es boca'\n",
    "listas = nGramas(cadena,3)\n",
    "print(listas)"
   ]
  },
  {
   "cell_type": "code",
   "execution_count": 82,
   "metadata": {
    "collapsed": false
   },
   "outputs": [
    {
     "data": {
      "text/plain": [
       "[('capital', 100000),\n",
       " ('la matanza', 150000),\n",
       " ('lanus', 80000),\n",
       " ('la plata', 15000),\n",
       " ('mar del plata', 5000)]"
      ]
     },
     "execution_count": 82,
     "metadata": {},
     "output_type": "execute_result"
    }
   ],
   "source": [
    "tupla = ('bs as', [('capital', 100000), \n",
    "                   ('la matanza', 150000), \n",
    "                   ('lanus', 80000),\n",
    "                   ('la plata', 15000),\n",
    "                   ('mar del plata', 5000)])\n",
    "tupla = list(tupla)\n",
    "type(tupla)\n",
    "otra = tupla[1]\n",
    "otra2 = otra[3][1]\n",
    "for i in otra:\n",
    "    \n",
    "    maximo = max(otra[i])"
   ]
  },
  {
   "cell_type": "code",
   "execution_count": 87,
   "metadata": {
    "collapsed": false
   },
   "outputs": [
    {
     "name": "stdout",
     "output_type": "stream",
     "text": [
      "[3, 7, 23, 4, 9, 1, 45, 0, 56]\n",
      "[56, 45, 23, 9, 7, 4, 3, 1, 0]\n",
      "[56, 45, 23]\n",
      "124\n"
     ]
    }
   ],
   "source": [
    "lista = [3,7,23,4,9,1,45,0,56]\n",
    "print lista\n",
    "lista.sort(reverse = True)\n",
    "print lista\n",
    "\n",
    "copia = lista[0:3]\n",
    "print copia\n",
    "\n",
    "copia = sum(copia)\n",
    "\n",
    "print copia"
   ]
  },
  {
   "cell_type": "code",
   "execution_count": 89,
   "metadata": {
    "collapsed": false
   },
   "outputs": [
    {
     "name": "stdout",
     "output_type": "stream",
     "text": [
      "7\n"
     ]
    }
   ],
   "source": [
    "tupla = (3,5,67,8,2,1,0)\n",
    "tupla = len(tupla)\n",
    "print tupla"
   ]
  }
 ],
 "metadata": {
  "kernelspec": {
   "display_name": "Python 2",
   "language": "python",
   "name": "python2"
  },
  "language_info": {
   "codemirror_mode": {
    "name": "ipython",
    "version": 2
   },
   "file_extension": ".py",
   "mimetype": "text/x-python",
   "name": "python",
   "nbconvert_exporter": "python",
   "pygments_lexer": "ipython2",
   "version": "2.7.6"
  }
 },
 "nbformat": 4,
 "nbformat_minor": 1
}
