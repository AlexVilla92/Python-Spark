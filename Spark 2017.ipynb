{
 "cells": [
  {
   "cell_type": "code",
   "execution_count": 2,
   "metadata": {
    "collapsed": false
   },
   "outputs": [
    {
     "data": {
      "text/plain": [
       "pyspark.context.SparkContext"
      ]
     },
     "execution_count": 2,
     "metadata": {},
     "output_type": "execute_result"
    }
   ],
   "source": [
    "import pyspark\n",
    "\n",
    "try:\n",
    "    type(sc)\n",
    "except NameError:\n",
    "    sc = pyspark.SparkContext('local[*]')\n",
    "    \n",
    "type(sc) "
   ]
  },
  {
   "cell_type": "code",
   "execution_count": 20,
   "metadata": {
    "collapsed": false
   },
   "outputs": [
    {
     "data": {
      "text/plain": [
       "('esto', 3)"
      ]
     },
     "execution_count": 20,
     "metadata": {},
     "output_type": "execute_result"
    }
   ],
   "source": [
    "from operator import add\n",
    "lista = ['estudio mucho', 'esto es un rdd', 'esto es boca', 'estudio para esto']\n",
    "rdd = sc.parallelize(lista,3)\n",
    "rdd.map(lambda x: x.split()).flatMap(lambda x: x).map(lambda x: (x,1))\\\n",
    "   .reduceByKey(add).reduce(lambda x,y: x if x[1] > y[1] else y)"
   ]
  },
  {
   "cell_type": "code",
   "execution_count": 23,
   "metadata": {
    "collapsed": false
   },
   "outputs": [
    {
     "data": {
      "text/plain": [
       "[('esto', 3), ('es', 2), ('estudio', 2)]"
      ]
     },
     "execution_count": 23,
     "metadata": {},
     "output_type": "execute_result"
    }
   ],
   "source": [
    "from operator import add\n",
    "lista = ['estudio mucho', 'esto es un rdd', 'esto es boca', 'estudio para esto']\n",
    "rdd = sc.parallelize(lista,3)\n",
    "rdd.map(lambda x: x.split()).flatMap(lambda x: x).map(lambda x: (x,1))\\\n",
    "   .reduceByKey(add).takeOrdered(3, lambda x: -x[1])"
   ]
  },
  {
   "cell_type": "code",
   "execution_count": 27,
   "metadata": {
    "collapsed": false
   },
   "outputs": [
    {
     "name": "stdout",
     "output_type": "stream",
     "text": [
      "PythonRDD[73] at RDD at PythonRDD.scala:43\n"
     ]
    }
   ],
   "source": [
    "#quiero concatenar todas las letras, y contar la frecuencia de cada caracter\n",
    "lista = ['hola don pepito, hola don jose, paso usted por mi casa']\n",
    "rdd = sc.parallelize(lista,3)\n",
    "print(rdd.map(lambda x: x.split()).flatMap(lambda x: x).map(lambda x,y: x+y))"
   ]
  },
  {
   "cell_type": "code",
   "execution_count": 46,
   "metadata": {
    "collapsed": false
   },
   "outputs": [
    {
     "data": {
      "text/plain": [
       "[('es', 0.06),\n",
       " ('sa', 0.04),\n",
       " ('s ', 0.04),\n",
       " ('to', 0.04),\n",
       " ('n ', 0.04),\n",
       " ('an', 0.04),\n",
       " ('re', 0.04),\n",
       " (' c', 0.02),\n",
       " ('en', 0.02),\n",
       " (' e', 0.02),\n",
       " ('da', 0.02),\n",
       " ('no', 0.02),\n",
       " ('ne', 0.02),\n",
       " ('ur', 0.02),\n",
       " ('bu', 0.02),\n",
       " ('r ', 0.02),\n",
       " ('ex', 0.02),\n",
       " (' t', 0.02),\n",
       " ('ue', 0.02),\n",
       " ('id', 0.02),\n",
       " ('on', 0.02),\n",
       " (' s', 0.02),\n",
       " ('ad', 0.02),\n",
       " ('la', 0.02),\n",
       " ('mi', 0.02),\n",
       " ('d ', 0.02),\n",
       " ('st', 0.02),\n",
       " ('un', 0.02),\n",
       " (' v', 0.02),\n",
       " ('il', 0.02),\n",
       " (' u', 0.02),\n",
       " ('xt', 0.02),\n",
       " ('ho', 0.02),\n",
       " (' b', 0.02),\n",
       " ('e ', 0.02),\n",
       " ('mb', 0.02),\n",
       " ('co', 0.02),\n",
       " ('pu', 0.02),\n",
       " ('vi', 0.02),\n",
       " ('o ', 0.02),\n",
       " ('as', 0.02),\n",
       " (' p', 0.02),\n",
       " ('br', 0.02),\n",
       " ('na', 0.02),\n",
       " ('om', 0.02),\n",
       " ('te', 0.02),\n",
       " ('or', 0.02)]"
      ]
     },
     "execution_count": 46,
     "metadata": {},
     "output_type": "execute_result"
    }
   ],
   "source": [
    "#bigramas: prbabilidad de que apareca cada bigrama\n",
    "def bigrams(una_lista):\n",
    "    una_lista = una_lista.lower()\n",
    "    return[una_lista[i:i+2] for i in range(0, len(una_lista) - 1)]\n",
    "######################################################\n",
    "lista = ['estor es un texto', 'milanesas con pure', 'hombre bueno vidad sana']\n",
    "rdd = sc.parallelize(lista,3)\n",
    "rdd = rdd.flatMap(lambda x: bigrams(x)).map(lambda x: (x,1))\\\n",
    "          .reduceByKey(add).sortBy(ascending = False, keyfunc = lambda x: x[1])\n",
    "total = rdd.count()\n",
    "rdd.map(lambda x: (x[0],round(float(x[1])/total,2))).collect()"
   ]
  },
  {
   "cell_type": "code",
   "execution_count": 52,
   "metadata": {
    "collapsed": false
   },
   "outputs": [
    {
     "data": {
      "text/plain": [
       "[('45', 3), ('12', 2), ('67', 1)]"
      ]
     },
     "execution_count": 52,
     "metadata": {},
     "output_type": "execute_result"
    }
   ],
   "source": [
    "#quiero el top 10 de usuarios que + url distintas clickearon\n",
    "lista = [('sjfksdjfiojsdovnsjdnvj','23','32523423423'),\n",
    "         ('vnrvunshbcshbhsh','12','98797766'),\n",
    "         ('vbrbrbrveaadcce','45','28362651738383'),\n",
    "         ('vmvnvuedhshsdj','78','2362783484584959660'),\n",
    "         ('pwoeiujfnvjndjdnjn','12','987644456788'),\n",
    "         ('vnnsbhcbshbjdkslkvm','45','76548724445'),\n",
    "         ('mivoneuahsdjknjsndjk','67','2676434211111'),\n",
    "         ('vmeydnkcndkscdkmvfk','45','83247847238983')]\n",
    "\n",
    "rdd = sc.parallelize(lista,3)\n",
    "rdd.map(lambda x: (x[1],x[0])).groupByKey()\\\n",
    "   .mapValues(lambda x: len(set(x))).takeOrdered(3,lambda x: -x[1])"
   ]
  },
  {
   "cell_type": "code",
   "execution_count": 28,
   "metadata": {
    "collapsed": false
   },
   "outputs": [
    {
     "data": {
      "text/plain": [
       "7"
      ]
     },
     "execution_count": 28,
     "metadata": {},
     "output_type": "execute_result"
    }
   ],
   "source": [
    "len('esto es')"
   ]
  },
  {
   "cell_type": "code",
   "execution_count": null,
   "metadata": {
    "collapsed": true
   },
   "outputs": [],
   "source": [
    "#def cortar(l):\n",
    "    \n",
    "\n",
    "#lista = ['holadeonpepitogoladonjose']\n",
    "\n",
    "#rdd = sc.parallelize(lista,3)\n"
   ]
  }
 ],
 "metadata": {
  "kernelspec": {
   "display_name": "Python 2",
   "language": "python",
   "name": "python2"
  },
  "language_info": {
   "codemirror_mode": {
    "name": "ipython",
    "version": 2
   },
   "file_extension": ".py",
   "mimetype": "text/x-python",
   "name": "python",
   "nbconvert_exporter": "python",
   "pygments_lexer": "ipython2",
   "version": "2.7.6"
  }
 },
 "nbformat": 4,
 "nbformat_minor": 1
}
